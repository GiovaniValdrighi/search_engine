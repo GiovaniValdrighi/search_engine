{
 "cells": [
  {
   "cell_type": "code",
   "execution_count": 8,
   "metadata": {},
   "outputs": [],
   "source": [
    "import os\n",
    "import re\n",
    "import string\n",
    "import numpy as np\n",
    "from unicodedata import normalize"
   ]
  },
  {
   "cell_type": "code",
   "execution_count": 11,
   "metadata": {},
   "outputs": [],
   "source": [
    "## DEFINIMOS AS FUNÇÕES DE PROCESSAMENTO GERANDO\n",
    "## O OBJETO DO INDEX DA LISTA INVERTIDA\n",
    "index = {}\n",
    "\n",
    "def update_index(text, id_text):\n",
    "    # atualizamos o índice da lista invertida\n",
    "    text = text.lower()\n",
    "    text = re.sub('[^a-z0-9]+', ' ', text)\n",
    "    for w in text.split():\n",
    "        # limpeza das palavras: pode ser revisitado\n",
    "        w = w.strip(string.punctuation)\n",
    "        w = w.strip(\",.;:\\\"+=\")\n",
    "        w = normalize('NFKD', w).encode('ASCII', 'ignore').decode('ASCII')\n",
    "        \n",
    "        # atualizamos o index com as palavras\n",
    "        if w not in index.keys():\n",
    "            index[w] = []\n",
    "        index[w].append(id_text)\n",
    "\n",
    "def analise_texto(texto):\n",
    "    inicio = 0\n",
    "    # continuamos para cada tag \"<doc>\" encontrada\n",
    "    while texto.find('<doc id', inicio) != -1:\n",
    "        inicio = texto.find('<doc id', inicio)\n",
    "        \n",
    "        # separamos o \"id\" do artigo\n",
    "        ini_id = texto.find('id=\"', inicio)\n",
    "        end_id = texto.find('\"', ini_id + 4)\n",
    "        id_txt = int(texto[ini_id + 4:end_id])\n",
    "        \n",
    "        # separamos o \"titulo\" do artigo\n",
    "        ini_ti = texto.find('title=\"', inicio)\n",
    "        end_ti = texto.find('\"', ini_ti + 7)\n",
    "        titulo = texto[ini_ti + 7:end_ti]\n",
    "        \n",
    "        # separamos o \"corpo\" do artigo\n",
    "        ini_co = texto.find('\">', inicio)\n",
    "        fim_co = texto.find('</doc>', inicio)\n",
    "        corpo = texto[ini_co+2:fim_co]\n",
    "        \n",
    "        # geramos um arquivo \"doc_id\" cada artigo\n",
    "        file = open('index.txt', 'a+')\n",
    "        #file.write()\n",
    "        file.close()\n",
    "        \n",
    "        print(titulo)\n",
    "        \n",
    "        inicio = fim_co\n",
    "        #update_index(corpo, id_txt)"
   ]
  },
  {
   "cell_type": "code",
   "execution_count": 15,
   "metadata": {
    "scrolled": true
   },
   "outputs": [
    {
     "name": "stdout",
     "output_type": "stream",
     "text": [
      "desktop.ini\n",
      "Terminei a iteração 1\n",
      "index.txt\n",
      "Terminei a iteração 2\n",
      "README.md\n",
      "Terminei a iteração 3\n",
      "search_engine.cpp\n",
      "Terminei a iteração 4\n",
      "search_engine.exe\n"
     ]
    },
    {
     "ename": "UnicodeDecodeError",
     "evalue": "'charmap' codec can't decode byte 0x90 in position 2: character maps to <undefined>",
     "output_type": "error",
     "traceback": [
      "\u001b[1;31m---------------------------------------------------------------------------\u001b[0m",
      "\u001b[1;31mUnicodeDecodeError\u001b[0m                        Traceback (most recent call last)",
      "\u001b[1;32m<ipython-input-15-7fa42738752f>\u001b[0m in \u001b[0;36m<module>\u001b[1;34m()\u001b[0m\n\u001b[0;32m     14\u001b[0m     \u001b[0mf\u001b[0m \u001b[1;33m=\u001b[0m \u001b[0mopen\u001b[0m\u001b[1;33m(\u001b[0m\u001b[0mfile\u001b[0m\u001b[1;33m)\u001b[0m\u001b[1;33m\u001b[0m\u001b[0m\n\u001b[0;32m     15\u001b[0m     \u001b[0mprint\u001b[0m\u001b[1;33m(\u001b[0m\u001b[0mfile\u001b[0m\u001b[1;33m)\u001b[0m\u001b[1;33m\u001b[0m\u001b[0m\n\u001b[1;32m---> 16\u001b[1;33m     \u001b[0mtexto\u001b[0m \u001b[1;33m=\u001b[0m \u001b[0mf\u001b[0m\u001b[1;33m.\u001b[0m\u001b[0mread\u001b[0m\u001b[1;33m(\u001b[0m\u001b[1;33m)\u001b[0m\u001b[1;33m\u001b[0m\u001b[0m\n\u001b[0m\u001b[0;32m     17\u001b[0m     \u001b[0manalise_texto\u001b[0m\u001b[1;33m(\u001b[0m\u001b[0mtexto\u001b[0m\u001b[1;33m)\u001b[0m\u001b[1;33m\u001b[0m\u001b[0m\n\u001b[0;32m     18\u001b[0m     \u001b[0mprint\u001b[0m\u001b[1;33m(\u001b[0m\u001b[1;34m'Terminei a iteração '\u001b[0m \u001b[1;33m+\u001b[0m \u001b[0mstr\u001b[0m\u001b[1;33m(\u001b[0m\u001b[0mk\u001b[0m\u001b[1;33m)\u001b[0m\u001b[1;33m)\u001b[0m\u001b[1;33m\u001b[0m\u001b[0m\n",
      "\u001b[1;32m~\\Anaconda3\\lib\\encodings\\cp1252.py\u001b[0m in \u001b[0;36mdecode\u001b[1;34m(self, input, final)\u001b[0m\n\u001b[0;32m     21\u001b[0m \u001b[1;32mclass\u001b[0m \u001b[0mIncrementalDecoder\u001b[0m\u001b[1;33m(\u001b[0m\u001b[0mcodecs\u001b[0m\u001b[1;33m.\u001b[0m\u001b[0mIncrementalDecoder\u001b[0m\u001b[1;33m)\u001b[0m\u001b[1;33m:\u001b[0m\u001b[1;33m\u001b[0m\u001b[0m\n\u001b[0;32m     22\u001b[0m     \u001b[1;32mdef\u001b[0m \u001b[0mdecode\u001b[0m\u001b[1;33m(\u001b[0m\u001b[0mself\u001b[0m\u001b[1;33m,\u001b[0m \u001b[0minput\u001b[0m\u001b[1;33m,\u001b[0m \u001b[0mfinal\u001b[0m\u001b[1;33m=\u001b[0m\u001b[1;32mFalse\u001b[0m\u001b[1;33m)\u001b[0m\u001b[1;33m:\u001b[0m\u001b[1;33m\u001b[0m\u001b[0m\n\u001b[1;32m---> 23\u001b[1;33m         \u001b[1;32mreturn\u001b[0m \u001b[0mcodecs\u001b[0m\u001b[1;33m.\u001b[0m\u001b[0mcharmap_decode\u001b[0m\u001b[1;33m(\u001b[0m\u001b[0minput\u001b[0m\u001b[1;33m,\u001b[0m\u001b[0mself\u001b[0m\u001b[1;33m.\u001b[0m\u001b[0merrors\u001b[0m\u001b[1;33m,\u001b[0m\u001b[0mdecoding_table\u001b[0m\u001b[1;33m)\u001b[0m\u001b[1;33m[\u001b[0m\u001b[1;36m0\u001b[0m\u001b[1;33m]\u001b[0m\u001b[1;33m\u001b[0m\u001b[0m\n\u001b[0m\u001b[0;32m     24\u001b[0m \u001b[1;33m\u001b[0m\u001b[0m\n\u001b[0;32m     25\u001b[0m \u001b[1;32mclass\u001b[0m \u001b[0mStreamWriter\u001b[0m\u001b[1;33m(\u001b[0m\u001b[0mCodec\u001b[0m\u001b[1;33m,\u001b[0m\u001b[0mcodecs\u001b[0m\u001b[1;33m.\u001b[0m\u001b[0mStreamWriter\u001b[0m\u001b[1;33m)\u001b[0m\u001b[1;33m:\u001b[0m\u001b[1;33m\u001b[0m\u001b[0m\n",
      "\u001b[1;31mUnicodeDecodeError\u001b[0m: 'charmap' codec can't decode byte 0x90 in position 2: character maps to <undefined>"
     ]
    }
   ],
   "source": [
    "## ACESSAMOS OS DOCUMENTOS NA PASTA\n",
    "## CRIA UM DOCUMENTO PARA CADA ARTIGO\n",
    "\n",
    "# Lemos os arquivos do diretório atual\n",
    "files = os.listdir()\n",
    "files.remove('inverted_index.ipynb')\n",
    "files.remove('.ipynb_checkpoints')\n",
    "files.remove('.git')\n",
    "\n",
    "# Para cada arquivo no diretório avaliamos\n",
    "# o texto e atualizamos o index de palavras\n",
    "k = 1\n",
    "for file in files:\n",
    "    f = open(file)\n",
    "    print(file)\n",
    "    texto = f.read()\n",
    "    analise_texto(texto)\n",
    "    print('Terminei a iteração ' + str(k))\n",
    "    k += 1"
   ]
  },
  {
   "cell_type": "code",
   "execution_count": 22,
   "metadata": {},
   "outputs": [],
   "source": [
    "## SALVAMOS UM ARQUIVO \"index.txt\" DA LISTA INVERTIDA\n",
    "with open('index.txt', 'a+') as file:\n",
    "    for key in index.keys():\n",
    "        if key.isalpha():\n",
    "            s = str()\n",
    "            index[key] = list(np.unique(index[key]))\n",
    "            index[key].sort()\n",
    "            for k in index[key]:\n",
    "                s += ' ' + str(k)\n",
    "            file.write(str(key) + \" \" + str(len(index[key])) + \" \" + s  + \"\\n\")        \n",
    "    file.close()"
   ]
  },
  {
   "cell_type": "markdown",
   "metadata": {},
   "source": [
    "Problemas do pré processamento:\n",
    "\n",
    "O método de tornar a lista única, é eficiente?\n",
    "\n",
    "Separar os arquivos salvos em vários arquivos de texto, não apenas um."
   ]
  },
  {
   "cell_type": "code",
   "execution_count": null,
   "metadata": {},
   "outputs": [],
   "source": []
  }
 ],
 "metadata": {
  "kernelspec": {
   "display_name": "Python 3",
   "language": "python",
   "name": "python3"
  },
  "language_info": {
   "codemirror_mode": {
    "name": "ipython",
    "version": 3
   },
   "file_extension": ".py",
   "mimetype": "text/x-python",
   "name": "python",
   "nbconvert_exporter": "python",
   "pygments_lexer": "ipython3",
   "version": "3.6.5"
  }
 },
 "nbformat": 4,
 "nbformat_minor": 2
}
