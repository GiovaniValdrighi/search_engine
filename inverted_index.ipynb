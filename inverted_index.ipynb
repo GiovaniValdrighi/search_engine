{
 "cells": [
  {
   "cell_type": "code",
   "execution_count": 56,
   "metadata": {},
   "outputs": [],
   "source": [
    "import os\n",
    "import re\n",
    "import string"
   ]
  },
  {
   "cell_type": "code",
   "execution_count": null,
   "metadata": {},
   "outputs": [],
   "source": [
    "index = {}\n",
    "\n",
    "def update_index(text, id_text):\n",
    "    # atualizamos o índice da lista invertida\n",
    "    for w in text.split():\n",
    "        # limpeza das palavras: pode ser revisitado\n",
    "        w = w.lower()\n",
    "        w = w.strip(string.punctuation)\n",
    "        w = w.strip(\",.;:\\\"+=\")\n",
    "        \n",
    "        # atualizamos o index com as palavras\n",
    "        if w not in index.keys():\n",
    "            index[w] = set()\n",
    "        index[w].add(id_text)\n",
    "\n",
    "def analise_texto(texto):\n",
    "    inicio = 0\n",
    "    # continuamos para cada tag \"<doc>\" encontrada\n",
    "    while texto.find('<doc id', inicio) != -1:\n",
    "        inicio = texto.find('<doc id', inicio)\n",
    "        \n",
    "        # separamos o \"id\" do artigo\n",
    "        inic_id = texto.find('id=\"', inicio)\n",
    "        fim_id = texto.find('\"', inic_id+4)\n",
    "        id_trecho = int(texto[inic_id+4:fim_id])\n",
    "        \n",
    "        # separamos o \"corpo\" do artigo\n",
    "        inicio = texto.find('\">', inicio)\n",
    "        fim = texto.find('</doc>', inicio)\n",
    "        trecho = texto[inicio+2:fim]\n",
    "        \n",
    "        update_index(trecho, id_trecho)\n",
    "        #lista_trecho = trecho.split()\n",
    "        #lista_trecho = [palavra.lower().strip(string.punctuation) for palavra in lista_trecho]\n",
    "        #lista_trecho = list(set(lista_trecho))\n",
    "        #for palavra in lista_trecho:\n",
    "        #    if palavra not in lista_invertida.keys():\n",
    "        #        lista_invertida[palavra] = [id_trecho]\n",
    "        #    else:\n",
    "        #        lista_invertida[palavra].append(id_trecho)"
   ]
  },
  {
   "cell_type": "code",
   "execution_count": 55,
   "metadata": {},
   "outputs": [
    {
     "ename": "KeyboardInterrupt",
     "evalue": "",
     "output_type": "error",
     "traceback": [
      "\u001b[1;31m---------------------------------------------------------------------------\u001b[0m",
      "\u001b[1;31mKeyboardInterrupt\u001b[0m                         Traceback (most recent call last)",
      "\u001b[1;32m<ipython-input-55-a8331ccdd1be>\u001b[0m in \u001b[0;36m<module>\u001b[1;34m()\u001b[0m\n\u001b[0;32m     10\u001b[0m     \u001b[0mf\u001b[0m \u001b[1;33m=\u001b[0m \u001b[0mopen\u001b[0m\u001b[1;33m(\u001b[0m\u001b[0mfile\u001b[0m\u001b[1;33m)\u001b[0m\u001b[1;33m\u001b[0m\u001b[0m\n\u001b[0;32m     11\u001b[0m     \u001b[0mtexto\u001b[0m \u001b[1;33m=\u001b[0m \u001b[0mf\u001b[0m\u001b[1;33m.\u001b[0m\u001b[0mread\u001b[0m\u001b[1;33m(\u001b[0m\u001b[1;33m)\u001b[0m\u001b[1;33m\u001b[0m\u001b[0m\n\u001b[1;32m---> 12\u001b[1;33m     \u001b[0manalise_texto\u001b[0m\u001b[1;33m(\u001b[0m\u001b[0mtexto\u001b[0m\u001b[1;33m)\u001b[0m\u001b[1;33m\u001b[0m\u001b[0m\n\u001b[0m\u001b[0;32m     13\u001b[0m     \u001b[0mprint\u001b[0m\u001b[1;33m(\u001b[0m\u001b[1;34m'Terminei a iteração '\u001b[0m \u001b[1;33m+\u001b[0m \u001b[0mstr\u001b[0m\u001b[1;33m(\u001b[0m\u001b[0mk\u001b[0m\u001b[1;33m)\u001b[0m\u001b[1;33m)\u001b[0m\u001b[1;33m\u001b[0m\u001b[0m\n\u001b[0;32m     14\u001b[0m     \u001b[1;32mbreak\u001b[0m\u001b[1;33m\u001b[0m\u001b[0m\n",
      "\u001b[1;32m<ipython-input-52-04be9b2572a8>\u001b[0m in \u001b[0;36manalise_texto\u001b[1;34m(texto)\u001b[0m\n\u001b[0;32m     30\u001b[0m         \u001b[0mtrecho\u001b[0m \u001b[1;33m=\u001b[0m \u001b[0mtexto\u001b[0m\u001b[1;33m[\u001b[0m\u001b[0minicio\u001b[0m\u001b[1;33m+\u001b[0m\u001b[1;36m2\u001b[0m\u001b[1;33m:\u001b[0m\u001b[0mfim\u001b[0m\u001b[1;33m]\u001b[0m \u001b[1;31m#não esta exatamente correto\u001b[0m\u001b[1;33m\u001b[0m\u001b[0m\n\u001b[0;32m     31\u001b[0m \u001b[1;33m\u001b[0m\u001b[0m\n\u001b[1;32m---> 32\u001b[1;33m         \u001b[0mupdate_index\u001b[0m\u001b[1;33m(\u001b[0m\u001b[0mtrecho\u001b[0m\u001b[1;33m,\u001b[0m \u001b[0mid_trecho\u001b[0m\u001b[1;33m)\u001b[0m\u001b[1;33m\u001b[0m\u001b[0m\n\u001b[0m\u001b[0;32m     33\u001b[0m         \u001b[1;31m#lista_trecho = trecho.split()\u001b[0m\u001b[1;33m\u001b[0m\u001b[1;33m\u001b[0m\u001b[0m\n\u001b[0;32m     34\u001b[0m         \u001b[1;31m#lista_trecho = [palavra.lower().strip(string.punctuation) for palavra in lista_trecho]\u001b[0m\u001b[1;33m\u001b[0m\u001b[1;33m\u001b[0m\u001b[0m\n",
      "\u001b[1;32m<ipython-input-52-04be9b2572a8>\u001b[0m in \u001b[0;36mupdate_index\u001b[1;34m(text, id_text)\u001b[0m\n\u001b[0;32m     12\u001b[0m         \u001b[1;32mif\u001b[0m \u001b[0mw\u001b[0m \u001b[1;32mnot\u001b[0m \u001b[1;32min\u001b[0m \u001b[0mindex\u001b[0m\u001b[1;33m.\u001b[0m\u001b[0mkeys\u001b[0m\u001b[1;33m(\u001b[0m\u001b[1;33m)\u001b[0m\u001b[1;33m:\u001b[0m\u001b[1;33m\u001b[0m\u001b[0m\n\u001b[0;32m     13\u001b[0m             \u001b[0mindex\u001b[0m\u001b[1;33m[\u001b[0m\u001b[0mw\u001b[0m\u001b[1;33m]\u001b[0m \u001b[1;33m=\u001b[0m \u001b[0mset\u001b[0m\u001b[1;33m(\u001b[0m\u001b[1;33m)\u001b[0m\u001b[1;33m\u001b[0m\u001b[0m\n\u001b[1;32m---> 14\u001b[1;33m         \u001b[0mindex\u001b[0m\u001b[1;33m[\u001b[0m\u001b[0mw\u001b[0m\u001b[1;33m]\u001b[0m\u001b[1;33m.\u001b[0m\u001b[0madd\u001b[0m\u001b[1;33m(\u001b[0m\u001b[0mid_text\u001b[0m\u001b[1;33m)\u001b[0m\u001b[1;33m\u001b[0m\u001b[0m\n\u001b[0m\u001b[0;32m     15\u001b[0m \u001b[1;33m\u001b[0m\u001b[0m\n\u001b[0;32m     16\u001b[0m \u001b[1;32mdef\u001b[0m \u001b[0manalise_texto\u001b[0m\u001b[1;33m(\u001b[0m\u001b[0mtexto\u001b[0m\u001b[1;33m)\u001b[0m\u001b[1;33m:\u001b[0m\u001b[1;33m\u001b[0m\u001b[0m\n",
      "\u001b[1;31mKeyboardInterrupt\u001b[0m: "
     ]
    }
   ],
   "source": [
    "# Lemos os arquivos do diretório\n",
    "files = os.listdir()\n",
    "files.remove('inverted_index.ipynb')\n",
    "files.remove('.ipynb_checkpoints')\n",
    "\n",
    "# Para cada arquivo no diretório avaliamos\n",
    "# o texto e atualizamos o index de palavras\n",
    "k = 1\n",
    "for file in files:\n",
    "    f = open(file)\n",
    "    texto = f.read()\n",
    "    analise_texto(texto)\n",
    "    print('Terminei a iteração ' + str(k))\n",
    "    break\n",
    "    k += 1"
   ]
  },
  {
   "cell_type": "code",
   "execution_count": 50,
   "metadata": {},
   "outputs": [],
   "source": [
    "# salvo index em um arquivo \".txt\"\n",
    "with open('index', 'a+') as file:\n",
    "    for item in index.items():\n",
    "        file.write(str(item) + \"\\n\")        \n",
    "    file.close()"
   ]
  },
  {
   "cell_type": "code",
   "execution_count": 133,
   "metadata": {},
   "outputs": [],
   "source": [
    "import pickle\n",
    "with open('inverted_index' + '.pkl', 'wb+') as f:\n",
    "    pickle.dump(li, f, pickle.HIGHEST_PROTOCOL)"
   ]
  },
  {
   "cell_type": "code",
   "execution_count": null,
   "metadata": {},
   "outputs": [],
   "source": []
  },
  {
   "cell_type": "code",
   "execution_count": null,
   "metadata": {},
   "outputs": [],
   "source": []
  },
  {
   "cell_type": "code",
   "execution_count": null,
   "metadata": {},
   "outputs": [],
   "source": []
  }
 ],
 "metadata": {
  "kernelspec": {
   "display_name": "Python 3",
   "language": "python",
   "name": "python3"
  },
  "language_info": {
   "codemirror_mode": {
    "name": "ipython",
    "version": 3
   },
   "file_extension": ".py",
   "mimetype": "text/x-python",
   "name": "python",
   "nbconvert_exporter": "python",
   "pygments_lexer": "ipython3",
   "version": "3.6.5"
  }
 },
 "nbformat": 4,
 "nbformat_minor": 2
}
