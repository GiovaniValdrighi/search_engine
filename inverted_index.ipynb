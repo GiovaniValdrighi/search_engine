{
 "cells": [
  {
   "cell_type": "code",
   "execution_count": 107,
   "metadata": {},
   "outputs": [],
   "source": [
    "import os\n",
    "import re\n",
    "import string"
   ]
  },
  {
   "cell_type": "code",
   "execution_count": 108,
   "metadata": {},
   "outputs": [],
   "source": [
    "def analisa_texto(texto, lista_invertida):\n",
    "    inicio = 0\n",
    "    while texto.find('<doc id', inicio) != -1:\n",
    "        inicio = texto.find('<doc id', inicio)\n",
    "        inic_id = texto.find('id=\"', inicio)\n",
    "        fim_id = texto.find('\"', inic_id+4)\n",
    "        id_trecho = texto[inic_id+4:fim_id]\n",
    "        inicio = texto.find('\">', inicio)\n",
    "        fim = texto.find('</doc>', inicio)\n",
    "        trecho = texto[inicio+2:fim] #não esta exatamente correto\n",
    "        lista_trecho = trecho.split()\n",
    "        lista_trecho = [palavra.lower().strip(string.punctuation) for palavra in lista_trecho]\n",
    "        lista_trecho = list(set(lista_trecho))\n",
    "        for palavra in lista_trecho:\n",
    "            if palavra not in lista_invertida.keys():\n",
    "                lista_invertida[palavra] = [id_trecho]\n",
    "            else:\n",
    "                lista_invertida[palavra].append(id_trecho)    \n",
    "    return lista_invertida"
   ]
  },
  {
   "cell_type": "code",
   "execution_count": 109,
   "metadata": {},
   "outputs": [],
   "source": [
    "li = {}"
   ]
  },
  {
   "cell_type": "code",
   "execution_count": 117,
   "metadata": {},
   "outputs": [],
   "source": [
    "files = os.listdir()"
   ]
  },
  {
   "cell_type": "code",
   "execution_count": 118,
   "metadata": {},
   "outputs": [],
   "source": [
    "files.remove('inverted_index.ipynb')\n",
    "files.remove('.ipynb_checkpoints')"
   ]
  },
  {
   "cell_type": "code",
   "execution_count": 126,
   "metadata": {},
   "outputs": [
    {
     "name": "stdout",
     "output_type": "stream",
     "text": [
      "Terminei a iteração1\n",
      "Terminei a iteração2\n",
      "Terminei a iteração3\n",
      "Terminei a iteração4\n",
      "Terminei a iteração5\n",
      "Terminei a iteração6\n",
      "Terminei a iteração7\n",
      "Terminei a iteração8\n",
      "Terminei a iteração9\n",
      "Terminei a iteração10\n",
      "Terminei a iteração11\n",
      "Terminei a iteração12\n",
      "Terminei a iteração13\n",
      "Terminei a iteração14\n",
      "Terminei a iteração15\n",
      "Terminei a iteração16\n",
      "Terminei a iteração17\n",
      "Terminei a iteração18\n",
      "Terminei a iteração19\n",
      "Terminei a iteração20\n",
      "Terminei a iteração21\n",
      "Terminei a iteração22\n",
      "Terminei a iteração23\n",
      "Terminei a iteração24\n",
      "Terminei a iteração25\n",
      "Terminei a iteração26\n",
      "Terminei a iteração27\n",
      "Terminei a iteração28\n",
      "Terminei a iteração29\n",
      "Terminei a iteração30\n",
      "Terminei a iteração31\n",
      "Terminei a iteração32\n",
      "Terminei a iteração33\n",
      "Terminei a iteração34\n",
      "Terminei a iteração35\n",
      "Terminei a iteração36\n",
      "Terminei a iteração37\n",
      "Terminei a iteração38\n",
      "Terminei a iteração39\n",
      "Terminei a iteração40\n",
      "Terminei a iteração41\n",
      "Terminei a iteração42\n",
      "Terminei a iteração43\n",
      "Terminei a iteração44\n",
      "Terminei a iteração45\n",
      "Terminei a iteração46\n",
      "Terminei a iteração47\n",
      "Terminei a iteração48\n",
      "Terminei a iteração49\n",
      "Terminei a iteração50\n",
      "Terminei a iteração51\n",
      "Terminei a iteração52\n",
      "Terminei a iteração53\n",
      "Terminei a iteração54\n",
      "Terminei a iteração55\n",
      "Terminei a iteração56\n",
      "Terminei a iteração57\n",
      "Terminei a iteração58\n",
      "Terminei a iteração59\n",
      "Terminei a iteração60\n",
      "Terminei a iteração61\n",
      "Terminei a iteração62\n",
      "Terminei a iteração63\n",
      "Terminei a iteração64\n",
      "Terminei a iteração65\n",
      "Terminei a iteração66\n",
      "Terminei a iteração67\n",
      "Terminei a iteração68\n",
      "Terminei a iteração69\n",
      "Terminei a iteração70\n",
      "Terminei a iteração71\n",
      "Terminei a iteração72\n",
      "Terminei a iteração73\n",
      "Terminei a iteração74\n",
      "Terminei a iteração75\n",
      "Terminei a iteração76\n",
      "Terminei a iteração77\n",
      "Terminei a iteração78\n",
      "Terminei a iteração79\n",
      "Terminei a iteração80\n",
      "Terminei a iteração81\n",
      "Terminei a iteração82\n",
      "Terminei a iteração83\n",
      "Terminei a iteração84\n",
      "Terminei a iteração85\n",
      "Terminei a iteração86\n",
      "Terminei a iteração87\n",
      "Terminei a iteração88\n",
      "Terminei a iteração89\n",
      "Terminei a iteração90\n",
      "Terminei a iteração91\n",
      "Terminei a iteração92\n",
      "Terminei a iteração93\n",
      "Terminei a iteração94\n",
      "Terminei a iteração95\n",
      "Terminei a iteração96\n",
      "Terminei a iteração97\n",
      "Terminei a iteração98\n",
      "Terminei a iteração99\n",
      "Terminei a iteração100\n",
      "Terminei a iteração101\n",
      "Terminei a iteração102\n",
      "Terminei a iteração103\n",
      "Terminei a iteração104\n",
      "Terminei a iteração105\n",
      "Terminei a iteração106\n",
      "Terminei a iteração107\n",
      "Terminei a iteração108\n",
      "Terminei a iteração109\n",
      "Terminei a iteração110\n",
      "Terminei a iteração111\n",
      "Terminei a iteração112\n",
      "Terminei a iteração113\n",
      "Terminei a iteração114\n",
      "Terminei a iteração115\n",
      "Terminei a iteração116\n",
      "Terminei a iteração117\n",
      "Terminei a iteração118\n",
      "Terminei a iteração119\n",
      "Terminei a iteração120\n",
      "Terminei a iteração121\n",
      "Terminei a iteração122\n",
      "Terminei a iteração123\n",
      "Terminei a iteração124\n",
      "Terminei a iteração125\n",
      "Terminei a iteração126\n",
      "Terminei a iteração127\n",
      "Terminei a iteração128\n",
      "Terminei a iteração129\n",
      "Terminei a iteração130\n",
      "Terminei a iteração131\n",
      "Terminei a iteração132\n",
      "Terminei a iteração133\n",
      "Terminei a iteração134\n",
      "Terminei a iteração135\n",
      "Terminei a iteração136\n",
      "Terminei a iteração137\n",
      "Terminei a iteração138\n",
      "Terminei a iteração139\n",
      "Terminei a iteração140\n",
      "Terminei a iteração141\n",
      "Terminei a iteração142\n",
      "Terminei a iteração143\n",
      "Terminei a iteração144\n",
      "Terminei a iteração145\n",
      "Terminei a iteração146\n",
      "Terminei a iteração147\n",
      "Terminei a iteração148\n",
      "Terminei a iteração149\n",
      "Terminei a iteração150\n",
      "Terminei a iteração151\n",
      "Terminei a iteração152\n",
      "Terminei a iteração153\n",
      "Terminei a iteração154\n",
      "Terminei a iteração155\n",
      "Terminei a iteração156\n",
      "Terminei a iteração157\n",
      "Terminei a iteração158\n",
      "Terminei a iteração159\n",
      "Terminei a iteração160\n",
      "Terminei a iteração161\n",
      "Terminei a iteração162\n",
      "Terminei a iteração163\n",
      "Terminei a iteração164\n"
     ]
    }
   ],
   "source": [
    "k = 1\n",
    "for file in files:\n",
    "    f = open(file)\n",
    "    texto = f.read()\n",
    "    analisa_texto(texto, li)\n",
    "    print('Terminei a iteração' + str(k))\n",
    "    k += 1"
   ]
  },
  {
   "cell_type": "code",
   "execution_count": 127,
   "metadata": {},
   "outputs": [
    {
     "data": {
      "text/plain": [
       "5432072"
      ]
     },
     "execution_count": 127,
     "metadata": {},
     "output_type": "execute_result"
    }
   ],
   "source": [
    "len(li.keys())"
   ]
  },
  {
   "cell_type": "code",
   "execution_count": 132,
   "metadata": {},
   "outputs": [],
   "source": [
    "import pickle"
   ]
  },
  {
   "cell_type": "code",
   "execution_count": 133,
   "metadata": {},
   "outputs": [],
   "source": [
    "with open('inverted_index' + '.pkl', 'wb+') as f:\n",
    "    pickle.dump(li, f, pickle.HIGHEST_PROTOCOL)"
   ]
  },
  {
   "cell_type": "code",
   "execution_count": null,
   "metadata": {},
   "outputs": [],
   "source": []
  }
 ],
 "metadata": {
  "kernelspec": {
   "display_name": "Python 3",
   "language": "python",
   "name": "python3"
  },
  "language_info": {
   "codemirror_mode": {
    "name": "ipython",
    "version": 3
   },
   "file_extension": ".py",
   "mimetype": "text/x-python",
   "name": "python",
   "nbconvert_exporter": "python",
   "pygments_lexer": "ipython3",
   "version": "3.7.1"
  }
 },
 "nbformat": 4,
 "nbformat_minor": 2
}
